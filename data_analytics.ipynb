{
 "cells": [
  {
   "cell_type": "code",
   "execution_count": 4,
   "metadata": {},
   "outputs": [],
   "source": [
    "#select p.firstname, p.lastname,a.city,a.state from person p left join address a on a.personId = p.personId;\n",
    "import pandas as pd\n",
    "\n",
    "def combine_two_table(person: pd.DataFrame, address: pd.DataFrame) -> pd.DataFrame:\n",
    "    final = person.merge(address, on='personId', how='left')\n",
    "    return final[['firstname','lastname','city','state']]\n"
   ]
  },
  {
   "cell_type": "code",
   "execution_count": 5,
   "metadata": {},
   "outputs": [],
   "source": [
    "# #SELECT score,\n",
    "#        DENSE_RANK() OVER (ORDER BY score DESC) AS \"rank\"\n",
    "# FROM Scores\n",
    "# ORDER BY score DESC;\n",
    "\n",
    "import pandas as pd\n",
    "\n",
    "def order_scores(scores: pd.DataFrame) -> pd.DataFrame:\n",
    "    scores['rank'] = scores['rank'].rank(method='dense',ascending=False)\n",
    "    fianlscore = scores.sort_values(by='score',ascending=False)\n",
    "    return fianlscore[['score','rank']]\n"
   ]
  }
 ],
 "metadata": {
  "kernelspec": {
   "display_name": "sqlenv",
   "language": "python",
   "name": "python3"
  },
  "language_info": {
   "codemirror_mode": {
    "name": "ipython",
    "version": 3
   },
   "file_extension": ".py",
   "mimetype": "text/x-python",
   "name": "python",
   "nbconvert_exporter": "python",
   "pygments_lexer": "ipython3",
   "version": "3.12.3"
  }
 },
 "nbformat": 4,
 "nbformat_minor": 2
}
