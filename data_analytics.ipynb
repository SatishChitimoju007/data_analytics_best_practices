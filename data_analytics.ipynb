{
 "cells": [
  {
   "cell_type": "code",
   "execution_count": 4,
   "metadata": {},
   "outputs": [],
   "source": [
    "#select p.firstname, p.lastname,a.city,a.state from person p left join address a on a.personId = p.personId;\n",
    "import pandas as pd\n",
    "\n",
    "def combine_two_table(person: pd.DataFrame, address: pd.DataFrame) -> pd.DataFrame:\n",
    "    final = person.merge(address, on='personId', how='left')\n",
    "    return final[['firstname','lastname','city','state']]\n"
   ]
  }
 ],
 "metadata": {
  "kernelspec": {
   "display_name": "sqlenv",
   "language": "python",
   "name": "python3"
  },
  "language_info": {
   "codemirror_mode": {
    "name": "ipython",
    "version": 3
   },
   "file_extension": ".py",
   "mimetype": "text/x-python",
   "name": "python",
   "nbconvert_exporter": "python",
   "pygments_lexer": "ipython3",
   "version": "3.12.3"
  }
 },
 "nbformat": 4,
 "nbformat_minor": 2
}
